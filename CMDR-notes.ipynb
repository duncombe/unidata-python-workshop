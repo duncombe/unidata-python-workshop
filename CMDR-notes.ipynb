{
 "metadata": {
  "name": "",
  "signature": "sha256:2070ec28690953a5e9ce4d103853b518d06819b8f93c3465e7ae0bc9c3695c5f"
 },
 "nbformat": 3,
 "nbformat_minor": 0,
 "worksheets": [
  {
   "cells": [
    {
     "cell_type": "markdown",
     "metadata": {},
     "source": [
      "# Notes from Unidata Python Workshop    \n",
      "2014-10-21 to 2014-10-22\n",
      "\n",
      "1. colaboratory (google ipython notebooks?\n",
      "1. Ethan -- intro\n",
      "2. Ward -- iPython notebooks    \n",
      "**Break for tea**\n",
      "3. Ryan -- NumPy     \n",
      "    1. inline to plot in cells\n",
      "    2. display to replot figure    \n",
      "    3. broadcast - how different from Matlab?    \n",
      "**Break for lunch**\n",
      "4. Russ - netCDF formats  (According to Julien, Russ Rew invented netCDF)\n",
      "    1. correct error in presentation (filename)\n",
      "5. Jeff - python interface to netCDF (reading netCDF)    \n",
      "** Break for tea**    \n",
      "6. Ryan - matplotlib and cartopy\n",
      "    2. matplotlib.org gallery \n",
      "7. Jeff - Writing netCDF data \n",
      "    1. Does CF metadata keyword have `least_significant_digit`.     \n",
      "**End of the day**     \n",
      "Stopped about 17:05  \n",
      "\n",
      "    \n",
      "    \n",
      "\n"
     ]
    },
    {
     "cell_type": "markdown",
     "metadata": {},
     "source": [
      "**Day 2:**\n",
      "1. Rich Signell - reproducible science and IOOS (via webex)\n",
      "    1. folium\n",
      "    2. vincent\n",
      "2. Julien - conda / binstar\n",
      "    1. continuum runs binstar and anaconda?\n",
      "3. Sean - point obs with TDS\n",
      "    1. \n",
      "4. Sean - Exploring WMS     \n",
      "**Lunch Break**  \n",
      "5. Ryan - radar composites\n",
      "6. Julien - git version control\n",
      "\n",
      "**End**\n",
      "Around 15:40!\n"
     ]
    },
    {
     "cell_type": "code",
     "collapsed": false,
     "input": [],
     "language": "python",
     "metadata": {},
     "outputs": []
    }
   ],
   "metadata": {}
  }
 ]
}