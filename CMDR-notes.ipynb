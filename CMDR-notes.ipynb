{
 "metadata": {
  "name": "",
  "signature": "sha256:6882d71c7b0de0cd483ecb56281559c1cd224e1fc8d44651dbb557ed6e951e30"
 },
 "nbformat": 3,
 "nbformat_minor": 0,
 "worksheets": [
  {
   "cells": [
    {
     "cell_type": "markdown",
     "metadata": {},
     "source": [
      "# Notes from Unidata Python Workshop    \n",
      "2014-10-21 to 2014-10-22\n",
      "\n",
      "1. colaboratory (google ipython notebooks?\n",
      "1. Ethan -- intro\n",
      "2. Ward -- iPython notebooks\n",
      "3. Ryan -- NumPy \n",
      "    1. inline to plot in cells\n",
      "    2. display to replot figure\n",
      "\n"
      "netCDF filenames in the netCDF-intro presentation sample files fo rexerceises"\n\n
     ]
    }
   ],
   "metadata": {}
  }
 ]
}
