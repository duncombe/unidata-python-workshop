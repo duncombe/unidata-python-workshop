{
 "metadata": {
  "name": "",
  "signature": "sha256:74371b1b9d5f7cd8e04c663dff66fbfdc5718a548f6d8ca9cd1397974f18c125"
 },
 "nbformat": 3,
 "nbformat_minor": 0,
 "worksheets": [
  {
   "cells": [
    {
     "cell_type": "markdown",
     "metadata": {},
     "source": [
      "# Notes from Unidata Python Workshop\n",
      "2014-10-21 to 2014-10-22\n",
      "\n",
      "1. colaboratory (google ipython notebooks?\n",
      "\n"
     ]
    }
   ],
   "metadata": {}
  }
 ]
}