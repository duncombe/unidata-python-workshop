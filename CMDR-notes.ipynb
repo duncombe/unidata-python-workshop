{
 "metadata": {
  "name": "",
  "signature": "sha256:e211da799956c1300f7ab7be693121f8f63116b1ceaf25c2e6e9270fc052310d"
 },
 "nbformat": 3,
 "nbformat_minor": 0,
 "worksheets": [
  {
   "cells": [
    {
     "cell_type": "markdown",
     "metadata": {},
     "source": [
      "# Notes from Unidata Python Workshop    \n",
      "2014-10-21 to 2014-10-22\n",
      "\n",
      "1. colaboratory (google ipython notebooks?\n",
      "1. Ethan -- intro\n",
      "2. Ward -- iPython notebooks    \n",
      "**Break for tea**\n",
      "3. Ryan -- NumPy     \n",
      "    1. inline to plot in cells\n",
      "    2. display to replot figure    \n",
      "    3. broadcast - how different from Matlab?    \n",
      "**Break for lunch**\n",
      "4. Russ - netCDF formats  (According to Julien, Russ Rew invented netCDF)\n",
      "    1. correct error in presentation (filename)\n",
      "5. Jeff - python interface to netCDF    \n",
      "** Break for tea**\n",
      "\n",
      "    \n",
      "\n"
     ]
    }
   ],
   "metadata": {}
  }
 ]
}