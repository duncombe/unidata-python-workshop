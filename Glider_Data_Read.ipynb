{
 "metadata": {
  "name": "",
  "signature": "sha256:1a7a6c1c67544a23b865bd43c2a566398aad1dfb47e8f6b19f1c50feb21adba1"
 },
 "nbformat": 3,
 "nbformat_minor": 0,
 "worksheets": [
  {
   "cells": [
    {
     "cell_type": "markdown",
     "metadata": {},
     "source": [
      "# Read Some Glider Data\n",
      "\n",
      "Not much about discovering places where to find data. Best is, go to the IOOS glider DAC site and learn a DAC URL there! We find \n",
      "<!-- Marketing! --> \n",
      "<!-- - http://www.ioos.noaa.gov/ioos_in_action/benefits/ocean_glider_network.html -->\n",
      "<!-- - http://www.ioos.noaa.gov/observing/observing_assets/glider_asset_map.html --> \n",
      "- http://tds.gliders.ioos.us/thredds/catalog.html\n"
     ]
    },
    {
     "cell_type": "code",
     "collapsed": false,
     "input": [
      "# Using Unidata python workshop examples as a template\n",
      "# Importing libraries we will need.\n",
      "import netCDF4\n",
      "%matplotlib inline\n",
      "import matplotlib.pyplot as plt\n",
      "import numpy as np"
     ],
     "language": "python",
     "metadata": {},
     "outputs": [],
     "prompt_number": 1
    },
    {
     "cell_type": "code",
     "collapsed": false,
     "input": [
      "# now they want us to use a file\n",
      "# Open the netCDF file\n",
      "# f = netCDF4.Dataset('data/rtofs_glo_3dz_f006_6hrly_reg3.nc', 'r')\n",
      "# but first lets go to the catalog and get some data\n",
      "\n",
      "\n",
      "# Open dataset. I don't care. I want something quick, even if it's absolutely filthy. Flesh it out and clean it up later.\n",
      "# dataset = netCDF4.Dataset('http://tds.gliders.ioos.us/thredds/dodsC/Scripps-Institution-of-Oceanography_sp025-20140611T1843_TimeUV.ncml?trajectory[0:1:0],platform,instrument_ctd,time_uv[0:1:887],lat_uv[0:1:887],lon_uv[0:1:887],u[0:1:887],u_qc[0:1:887],v[0:1:887],v_qc[0:1:887]') \n",
      "# timevar = dataset.variables['time']\n",
      "# timeindex = netCDF4.date2index(date, timevar) # find time index for desired date.\n",
      "\n",
      "# Problems with the glider data. Can we read ANY data?\n",
      "\n",
      "# dataset= netCDF4.Dataset('/home/cduncomberae/IOOS/unidata-python-workshop/data/rtofs_glo_3dz_f006_6hrly_reg3.nc')\n",
      "# timevar\n",
      "from pyudl.tds import get_latest_dods_url\n",
      "\n",
      "gfs_catalog_url = \"http://thredds.ucar.edu/thredds/catalog/grib/NCEP/GFS/Global_0p5deg/catalog.xml\" \n",
      "latest = get_latest_dods_url(gfs_catalog_url)"
     ],
     "language": "python",
     "metadata": {},
     "outputs": [],
     "prompt_number": 2
    },
    {
     "cell_type": "code",
     "collapsed": false,
     "input": [
      "latest"
     ],
     "language": "python",
     "metadata": {},
     "outputs": [
      {
       "metadata": {},
       "output_type": "pyout",
       "prompt_number": 4,
       "text": [
        "'http://thredds.ucar.edu/thredds/dodsC/grib/NCEP/GFS/Global_0p5deg/GFS_Global_0p5deg_20141118_1200.grib2/GC'"
       ]
      }
     ],
     "prompt_number": 4
    },
    {
     "cell_type": "code",
     "collapsed": false,
     "input": [
      "gfs = netCDF4.Dataset(latest)"
     ],
     "language": "python",
     "metadata": {},
     "outputs": [],
     "prompt_number": 6
    },
    {
     "cell_type": "code",
     "collapsed": false,
     "input": [
      "gfs"
     ],
     "language": "python",
     "metadata": {},
     "outputs": [
      {
       "metadata": {},
       "output_type": "pyout",
       "prompt_number": 7,
       "text": [
        "<netCDF4.Dataset at 0x7f1f6a3468a0>"
       ]
      }
     ],
     "prompt_number": 7
    },
    {
     "cell_type": "code",
     "collapsed": false,
     "input": [
      "from subprocess import call\n",
      "# call(['wget', latest])\n",
      "help('subprocess.call')"
     ],
     "language": "python",
     "metadata": {},
     "outputs": [
      {
       "output_type": "stream",
       "stream": "stdout",
       "text": [
        "Help on function call in subprocess:\n",
        "\n",
        "subprocess.call = call(*popenargs, **kwargs)\n",
        "    Run command with arguments.  Wait for command to complete, then\n",
        "    return the returncode attribute.\n",
        "    \n",
        "    The arguments are the same as for the Popen constructor.  Example:\n",
        "    \n",
        "    retcode = call([\"ls\", \"-l\"])\n",
        "\n"
       ]
      }
     ],
     "prompt_number": 5
    },
    {
     "cell_type": "markdown",
     "metadata": {},
     "source": []
    }
   ],
   "metadata": {}
  }
 ]
}