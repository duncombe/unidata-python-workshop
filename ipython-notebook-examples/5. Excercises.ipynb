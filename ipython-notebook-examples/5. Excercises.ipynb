{
 "metadata": {
  "celltoolbar": "Raw Cell Format",
  "name": "",
  "signature": "sha256:c086c695eb6ae9af83f190159a4163c8ce89fe1c8b90643cb1fa296e246ec7d4"
 },
 "nbformat": 3,
 "nbformat_minor": 0,
 "worksheets": [
  {
   "cells": [
    {
     "cell_type": "markdown",
     "metadata": {},
     "source": [
      "# Excercise 1\n",
      "\n",
      "1. Change the next cell from `markdown` to `code.`\n",
      "2. Write a one-line program to print your name.\n",
      "3. Run the cell."
     ]
    },
    {
     "cell_type": "code",
     "collapsed": false,
     "input": [
      "# *Change Me*\n",
      "print \"*Change Me*\""
     ],
     "language": "python",
     "metadata": {},
     "outputs": [
      {
       "output_type": "stream",
       "stream": "stdout",
       "text": [
        "*Change Me*\n"
       ]
      }
     ],
     "prompt_number": 4
    },
    {
     "cell_type": "markdown",
     "metadata": {},
     "source": [
      "# Excercise 2\n",
      "\n",
      "1. Change the next cell from `code` to `markdown`.\n",
      "2. Copy the following lines into the cell and run it.  \n",
      "\n",
      "### The Lorenz Equations \n",
      "\n",
      "```   \n",
      "    \\begin{align} \\dot{x} & = \\sigma(y-x) \\\\ \\dot{y} & = \\rho x - y - xz \\\\ \\dot{z} & = -\\beta z + xy \\end{align}\n",
      "```\n",
      "\n",
      "### A Cross-Product Formula\n",
      "\n",
      "```\n",
      "    \\begin{equation*} \\mathbf{V}_1 \\times \\mathbf{V}_2 = \\begin{vmatrix} \\mathbf{i} & \\mathbf{j} & \\mathbf{k} \\\\ \\frac{\\partial X}{\\partial u} & \\frac{\\partial Y}{\\partial u} & 0 \\\\ \\frac{\\partial X}{\\partial v} & \\frac{\\partial Y}{\\partial v} & 0 \\end{vmatrix} \\end{equation*}\n",
      "```\n",
      "\n",
      "### The Cauchy-Schwarz Inequality\n",
      "\n",
      "```\n",
      "    \\begin{equation*} \\left( \\sum_{k=1}^n a_k b_k \\right)^2 \\leq \\left( \\sum_{k=1}^n a_k^2 \\right) \\left( \\sum_{k=1}^n b_k^2 \\right) \\end{equation*}\n",
      "```\n",
      "\n",
      "Experiment with the code to modify the equations.\n",
      "\n",
      "\n",
      "> Examples adapted from [NBViewer Examples](http://nbviewer.ipython.org/github/ipython/ipython/blob/2.x/examples/Notebook/Typesetting%20Math%20Using%20MathJax.ipynb)."
     ]
    },
    {
     "cell_type": "markdown",
     "metadata": {},
     "source": [
      "<!-- `x = \"Change Me\"` -->\n",
      "\n",
      "## The  Lorenz Equations    \n",
      "\n",
      "```\n",
      "    \\begin{align} \\dot{x} & = \\sigma(y-x) \\\\ \\dot{y} & = \\rho x - y - xz \\\\ \\dot{z} & = -\\beta z + xy \\end{align}    \n",
      "```    \n",
      "\n",
      "$$\n",
      "    \\begin{align} \\dot{x} & = \\sigma(y-x) \\\\ \\dot{y} & = \\rho x - y - xz \\\\ \\dot{z} & = -\\beta z + xy \\end{align}\n",
      "$$\n",
      "\n",
      "## A Cross-Product Formula\n",
      "\n",
      "`\\begin{equation*} \\mathbf{V}_1 \\times \\mathbf{V}_2 = \\begin{vmatrix} \\mathbf{i} & \\mathbf{j} & \\mathbf{k} \\\\ \\frac{\\partial X}{\\partial u} & \\frac{\\partial Y}{\\partial u} & 0 \\\\ \\frac{\\partial X}{\\partial v} & \\frac{\\partial Y}{\\partial v} & 0 \\end{vmatrix} \\end{equation*}\n",
      "`\n",
      "\n",
      "$$\n",
      "    \\begin{equation*} \\mathbf{V}_1 \\times \\mathbf{V}_2 = \\begin{vmatrix} \\mathbf{i} & \\mathbf{j} & \\mathbf{k} \\\\ \\frac{\\partial X}{\\partial u} & \\frac{\\partial Y}{\\partial u} & 0 \\\\ \\frac{\\partial X}{\\partial v} & \\frac{\\partial Y}{\\partial v} & 0 \\end{vmatrix} \\end{equation*}\n",
      "$$\n",
      "\n",
      "## The Cauchy-Schwarz Inequality\n",
      "\n",
      "    \\begin{equation*} \\left( \\sum_{k=1}^n a_k b_k \\right)^2 \\leq \\left( \\sum_{k=1}^n a_k^2 \\right) \\left( \\sum_{k=1}^n b_k^2 \\right) \\end{equation*}\n"
     ]
    },
    {
     "cell_type": "code",
     "collapsed": false,
     "input": [],
     "language": "python",
     "metadata": {},
     "outputs": []
    }
   ],
   "metadata": {}
  }
 ]
}