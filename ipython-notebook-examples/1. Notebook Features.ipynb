{
 "metadata": {
  "name": "",
  "signature": "sha256:68540069b4d6a2912239e0720d7bb22955c0e128619812f9f3289fca5827b268"
 },
 "nbformat": 3,
 "nbformat_minor": 0,
 "worksheets": [
  {
   "cells": [
    {
     "cell_type": "markdown",
     "metadata": {},
     "source": [
      "# Nice Errors"
     ]
    },
    {
     "cell_type": "code",
     "collapsed": false,
     "input": [
      "1 + foo"
     ],
     "language": "python",
     "metadata": {},
     "outputs": []
    },
    {
     "cell_type": "markdown",
     "metadata": {},
     "source": [
      "# Inline Documentation"
     ]
    },
    {
     "cell_type": "code",
     "collapsed": false,
     "input": [
      "open?"
     ],
     "language": "python",
     "metadata": {},
     "outputs": []
    },
    {
     "cell_type": "markdown",
     "metadata": {},
     "source": [
      "# Tab Completion\n",
      "\n",
      "Type `o` then `tab` and you should see a drop-down menu of choices."
     ]
    },
    {
     "cell_type": "code",
     "collapsed": true,
     "input": [
      "open"
     ],
     "language": "python",
     "metadata": {},
     "outputs": []
    },
    {
     "cell_type": "markdown",
     "metadata": {},
     "source": [
      "# Run Shell Commands with `!`"
     ]
    },
    {
     "cell_type": "code",
     "collapsed": false,
     "input": [
      "!ls -ltr"
     ],
     "language": "python",
     "metadata": {},
     "outputs": [
      {
       "output_type": "stream",
       "stream": "stdout",
       "text": [
        "total 148\r\n",
        "-rw-r--r-- 1 python staff   2315 Oct 20 15:51 1. Notebook Features.ipynb\r\n",
        "-rw-r--r-- 1 python staff 126757 Oct 20 15:51 ipython-notebook-reference.ipynb\r\n",
        "-rw-r--r-- 1 python staff   2563 Oct 20 15:51 3. Interactive Widgets.ipynb\r\n",
        "-rw-r--r-- 1 python staff   2224 Oct 21 07:53 5. Excercises.ipynb\r\n",
        "-rw-r--r-- 1 python staff   1688 Oct 21 07:53 4. Sharing IPython Notebooks.ipynb\r\n",
        "-rw-r--r-- 1 python staff   1374 Oct 21 07:53 2. Plotting.ipynb\r\n",
        "-rw-r--r-- 1 python staff   1995 Oct 21 09:29 0. Getting Started.ipynb\r\n"
       ]
      }
     ],
     "prompt_number": 2
    },
    {
     "cell_type": "markdown",
     "metadata": {},
     "source": [
      "# Remote Operations\n",
      "\n",
      "IPython Notebook has facilities for running code both locally and remotely."
     ]
    },
    {
     "cell_type": "markdown",
     "metadata": {},
     "source": [
      "## Local or Remote Images and Even Videos"
     ]
    },
    {
     "cell_type": "code",
     "collapsed": false,
     "input": [
      "from IPython.core.display import Image \n",
      "Image(url='http://python.org/images/python-logo.gif')"
     ],
     "language": "python",
     "metadata": {},
     "outputs": [
      {
       "html": [
        "<img src=\"http://python.org/images/python-logo.gif\"/>"
       ],
       "metadata": {},
       "output_type": "pyout",
       "prompt_number": 3,
       "text": [
        "<IPython.core.display.Image at 0x7f0e30460b10>"
       ]
      }
     ],
     "prompt_number": 3
    },
    {
     "cell_type": "code",
     "collapsed": false,
     "input": [
      "loadpy http://matplotlib.org/mpl_examples/pylab_examples/simple_plot.py "
     ],
     "language": "python",
     "metadata": {},
     "outputs": [],
     "prompt_number": 4
    },
    {
     "cell_type": "code",
     "collapsed": false,
     "input": [
      "from pylab import *\n",
      "\n",
      "t = arange(0.0, 2.0, 0.01)\n",
      "s = sin(2*pi*t)\n",
      "plot(t, s)\n",
      "\n",
      "xlabel('time (s)')\n",
      "ylabel('voltage (mV)')\n",
      "title('About as simple as it gets, folks')\n",
      "grid(True)\n",
      "savefig(\"test.png\")\n",
      "show()\n"
     ],
     "language": "python",
     "metadata": {},
     "outputs": []
    }
   ],
   "metadata": {}
  }
 ]
}