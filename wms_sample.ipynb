{
 "metadata": {
  "name": "",
  "signature": "sha256:d3d730159ded1e7976aa2696e83068545059a38b12f6f1d4d58c8fe97ca4dd6c"
 },
 "nbformat": 3,
 "nbformat_minor": 0,
 "worksheets": [
  {
   "cells": [
    {
     "cell_type": "markdown",
     "metadata": {},
     "source": [
      "# Exploring Web Map Service (WMS)  \n",
      "\n",
      "1. <a href=\"#helperFunctions\">Helper Funcitons</a>\n",
      "2. <a href=\"#mainLibs\">WMS and OWSLib</a>\n",
      "3. <a href=\"#serviceInfo\">Getting some information about the service</a>\n",
      "4. <a href=\"#basicGetMap\">Getting the basic information we need to perform a GetMap request</a>\n",
      "5. <a href=\"#advancedGetMap\">More on GetMap request</a>\n",
      "6. <a href=\"#ncWmsExtensions\">TDS-ncWMS styles and extensions</a>\n",
      "7. <a href=\"#wmsAndBasemap\">WMS and basemap</a>"
     ]
    },
    {
     "cell_type": "markdown",
     "metadata": {},
     "source": [
      "## 1. <a name=\"helperFunctions\">Helper Functions</a>\n",
      " - Let's define a few helper functions to save and load images from a temporairy directory or url"
     ]
    },
    {
     "cell_type": "code",
     "collapsed": false,
     "input": [
      "# Function to get tmp image dir. If it does not exist, \n",
      "#  create it\n",
      "def getTmpImgDir():\n",
      "    from os import makedirs\n",
      "    from os.path import exists, join\n",
      "    tmp_img_dir = \"tmp_img\"\n",
      "    if (not exists(tmp_img_dir)):\n",
      "        makedirs(tmp_img_dir)\n",
      "    return tmp_img_dir\n",
      "\n",
      "#Function that saves the layer as an image\n",
      "def saveLayerAsTmpImage(layer, inname):\n",
      "    from os.path import join\n",
      "    tmp_img_dir = getTmpImgDir()\n",
      "    full_img_path = join(tmp_img_dir, inname)\n",
      "    out = open(full_img_path, 'wb')\n",
      "    out.write(layer.read())\n",
      "    out.close()\n",
      "\n",
      "# Function to load image\n",
      "def loadTmpImage(image_name):\n",
      "    from IPython.core.display import Image\n",
      "    from os.path import join\n",
      "    tmp_img_dir = getTmpImgDir()\n",
      "    filename = join(tmp_img_dir, image_name)\n",
      "    return Image(filename)\n",
      "\n",
      "# Function to display image from a url\n",
      "def loadRemoteImage(imgUrl):\n",
      "    from IPython.core.display import Image\n",
      "    return Image(url = imgUrl)"
     ],
     "language": "python",
     "metadata": {},
     "outputs": [],
     "prompt_number": 1
    },
    {
     "cell_type": "markdown",
     "metadata": {},
     "source": [
      "## 2. <a name=\"mainLibs\">WMS and OWSLib</a>\n",
      "- WMS is the Open Geospatial Consortium (OGC) standard interface for requesting georeferenced __images__ through HTTP.\n",
      "- OWSLib is part of [geopython](http://geopython.github.io/), a GitHub organization comprised of Python projects related to geospatial. \n",
      "- OWSLib is a Python package for client programming with OGC Web Services (OWS) developed by [Tom Kralidis](http://www.kralidis.ca/).\n",
      "- OWSLib supports several OGC standards: WFS, WCS, SOS...and of course WMS 1.1.1. [More](http://geopython.github.io/OWSLib/).  \n",
      "- Does not come installed with canopy but is available in the community packages.\n",
      "- Installation with enpkg:  \n",
      "    * enpkg OWSLib\n",
      "    * current version (07/09/2013) --> 0.4.0-1"
     ]
    },
    {
     "cell_type": "markdown",
     "metadata": {},
     "source": [
      "## 3. <a name=\"serviceInfo\">Getting some information about the service</a>  \n",
      "  \n",
      "* We will use OWSLib package and in particular the owslib.wms module.\n",
      "* Within the TDS context, if WMS is enabled and set up in the catalogs, each dataset has a WMS url.\n",
      "    "
     ]
    },
    {
     "cell_type": "code",
     "collapsed": false,
     "input": [
      "from owslib.wms import WebMapService\n",
      "#We just need a WMS url from one TDS dataset...\n",
      "serverurl ='http://weather.rsmas.miami.edu/thredds/wms/grib/NCEP/RAP/CONUS_13km/Best'\n",
      "wms = WebMapService( serverurl, version='1.1.1')"
     ],
     "language": "python",
     "metadata": {},
     "outputs": [
      {
       "ename": "ImportError",
       "evalue": "No module named owslib",
       "output_type": "pyerr",
       "traceback": [
        "\u001b[1;31m---------------------------------------------------------------------------\u001b[0m\n\u001b[1;31mImportError\u001b[0m                               Traceback (most recent call last)",
        "\u001b[1;32m<ipython-input-3-5a317f928281>\u001b[0m in \u001b[0;36m<module>\u001b[1;34m()\u001b[0m\n\u001b[1;32m----> 1\u001b[1;33m \u001b[1;32mfrom\u001b[0m \u001b[0mowslib\u001b[0m \u001b[1;32mimport\u001b[0m \u001b[0mWebMapService\u001b[0m\u001b[1;33m\u001b[0m\u001b[0m\n\u001b[0m\u001b[0;32m      2\u001b[0m \u001b[1;31m#We just need a WMS url from one TDS dataset...\u001b[0m\u001b[1;33m\u001b[0m\u001b[1;33m\u001b[0m\u001b[0m\n\u001b[0;32m      3\u001b[0m \u001b[0mserverurl\u001b[0m \u001b[1;33m=\u001b[0m\u001b[1;34m'http://weather.rsmas.miami.edu/thredds/wms/grib/NCEP/RAP/CONUS_13km/Best'\u001b[0m\u001b[1;33m\u001b[0m\u001b[0m\n\u001b[0;32m      4\u001b[0m \u001b[0mwms\u001b[0m \u001b[1;33m=\u001b[0m \u001b[0mWebMapService\u001b[0m\u001b[1;33m(\u001b[0m \u001b[0mserverurl\u001b[0m\u001b[1;33m,\u001b[0m \u001b[0mversion\u001b[0m\u001b[1;33m=\u001b[0m\u001b[1;34m'1.1.1'\u001b[0m\u001b[1;33m)\u001b[0m\u001b[1;33m\u001b[0m\u001b[0m\n",
        "\u001b[1;31mImportError\u001b[0m: No module named owslib"
       ]
      }
     ],
     "prompt_number": 3
    },
    {
     "cell_type": "markdown",
     "metadata": {},
     "source": [
      "The WebMapService object gets all the information available about the service through a GetCapabilities request:"
     ]
    },
    {
     "cell_type": "code",
     "collapsed": false,
     "input": [
      "#This is general information, common to all datasets in a TDS server\n",
      "operations =[ op.name for op in  wms.operations ]\n",
      "print 'Available operations: ' \n",
      "print operations \n",
      "\n",
      "print 'General information (common to all datasets):'\n",
      "print wms.identification.type\n",
      "print wms.identification.abstract\n",
      "print wms.identification.keywords\n",
      "print wms.identification.version\n",
      "print wms.identification.title"
     ],
     "language": "python",
     "metadata": {},
     "outputs": []
    },
    {
     "cell_type": "markdown",
     "metadata": {},
     "source": [
      "- Bounding boxes, styles and dimensions are specific to each layer.\n",
      "- Each variable in a dataset translates into a layer in the WMS service. \n",
      "- Besides, the server creates virtual layers if it founds vector components in CF-1 or Grib conventions. "
     ]
    },
    {
     "cell_type": "code",
     "collapsed": true,
     "input": [
      "#Listing all available layers...\n",
      "layers = list(wms.contents)\n",
      "for l in layers:\n",
      "    print 'Layer title: '+wms[l].title +', name:'+wms[l].name"
     ],
     "language": "python",
     "metadata": {},
     "outputs": []
    },
    {
     "cell_type": "markdown",
     "metadata": {},
     "source": [
      "## 4. <a name=\"basicGetMap\">Getting the basic information we need to perform a GetMap request</a>\n",
      "\n",
      "-  All the information clients need is available in the capabilities document, which is stored in the WebMapService object.\n",
      "-  TDS-WMS only supports GetMap requests on one layer (variable).\n",
      "-  We need to choose our layer, bounding box, spatial reference system (SRS), size and format of the image.\n"
     ]
    },
    {
     "cell_type": "code",
     "collapsed": false,
     "input": [
      "#Values common to all GetMap requests: formats and http methods:\n",
      "print wms.getOperationByName('GetMap').formatOptions\n",
      "print wms.getOperationByName('GetMap').methods\n",
      "\n",
      "#Let's choose: 'wind @ Isobaric surface' (the value in the parameter must be name of the layer)\n",
      "wind = wms['wind @ Isobaric surface']\n",
      "\n",
      "#What is its bounding box?\n",
      "print wind.boundingBox\n",
      "\n",
      "#available CRS\n",
      "print wind.crsOptions\n",
      "# --> NOT ALL THE AVAILABLE CRS OPTIONS ARE LISTED"
     ],
     "language": "python",
     "metadata": {},
     "outputs": []
    },
    {
     "cell_type": "code",
     "collapsed": false,
     "input": [
      "#let's get the image...    \n",
      "img_wind = wms.getmap( layers=[wind.name], #only takes one layer\n",
      "                  srs='EPSG:4326',\n",
      "                  bbox=(wind.boundingBox[0],wind.boundingBox[1], wind.boundingBox[2], wind.boundingBox[3]),\n",
      "                  size=(512, 512),\n",
      "                  format='image/png'\n",
      ")\n",
      "\n",
      "#Save it..\n",
      "saveLayerAsTmpImage(img_wind, 'test_wind.png')\n",
      "\n",
      "#Display the image we've just saved...\n",
      "loadTmpImage('test_wind.png')"
     ],
     "language": "python",
     "metadata": {},
     "outputs": []
    },
    {
     "cell_type": "markdown",
     "metadata": {},
     "source": [
      "# 5. <a name=\"advancedGetMap\">More on GetMap requests</a>\n",
      "\n",
      "* Handling time and vertical dimensions\n",
      "* Changing styles\n",
      "* Changing the spatial reference system (SRS)\n"
     ]
    },
    {
     "cell_type": "markdown",
     "metadata": {},
     "source": [
      "### Handling time and vertical dimensions\n",
      "* Getting available times for a layer:"
     ]
    },
    {
     "cell_type": "code",
     "collapsed": false,
     "input": [
      "#Times are available in the timepositions property of the layer\n",
      "times= [time.strip() for time in wind.timepositions]\n",
      "print times"
     ],
     "language": "python",
     "metadata": {},
     "outputs": []
    },
    {
     "cell_type": "code",
     "collapsed": true,
     "input": [
      "#We can choose any of the available times and make a request for it with the parameter time\n",
      "#If no time is provided the default in TDS is the closest available time to the current time\n",
      "img_wind = wms.getmap( layers=[wind.name], \n",
      "                  srs='EPSG:4326',\n",
      "                  bbox=(wind.boundingBox[0],wind.boundingBox[1], wind.boundingBox[2], wind.boundingBox[3]),\n",
      "                  size=(600, 600),\n",
      "                  format='image/png',\n",
      "                  time= times[len(times)-1]\n",
      ")\n",
      "\n",
      "saveLayerAsTmpImage(img_wind, 'test_wind.png')\n",
      "loadTmpImage('test_wind.png')"
     ],
     "language": "python",
     "metadata": {},
     "outputs": []
    },
    {
     "cell_type": "code",
     "collapsed": true,
     "input": [
      "#We can also specify a time interval to get an animated gif\n",
      "#Format must be image/gif\n",
      "img_wind = wms.getmap( layers=[wind.name], \n",
      "                  srs='EPSG:4326',\n",
      "                  bbox=(wind.boundingBox[0],wind.boundingBox[1], wind.boundingBox[2], wind.boundingBox[3]),\n",
      "                  size=(600, 600),\n",
      "                  format='image/gif',\n",
      "                  time= times[len(times)-4]+'/'+times[len(times)-1]\n",
      ")\n",
      "\n",
      "from IPython.core.display import Image\n",
      "loadRemoteImage(img_wind.url)"
     ],
     "language": "python",
     "metadata": {},
     "outputs": []
    },
    {
     "cell_type": "markdown",
     "metadata": {},
     "source": [
      "* Getting the available vertical levels:  \n",
      "OWSLib does not support vertical levels, meaning the layer objects do not have a property \"elevations\" with the vertical levels. So, we need a little extra work to get the available vertical levels for a layer"
     ]
    },
    {
     "cell_type": "code",
     "collapsed": false,
     "input": [
      "#Next version of OWSLib will support this...\n",
      "#elevations = [el.strip() for el in wind.elevations]\n",
      "#print elevations\n",
      "\n",
      "#In the meantime...\n",
      "def find_elevations_for_layer(wms, layer_name):\n",
      "    \"\"\"\n",
      "        parses the wms capabilities document searching\n",
      "        the elevation dimension for the layer\n",
      "    \"\"\"\n",
      "    #Get all the layers\n",
      "    levels =None;\n",
      "    layers = wms._capabilities.findall(\".//Layer\")\n",
      "    layer_tag = None\n",
      "    for el in layers:\n",
      "        name = el.find(\"Name\")\n",
      "        if name is not None and name.text.strip() == layer_name:\n",
      "            layer_tag = el\n",
      "            break        \n",
      "\n",
      "    if layer_tag is not None:\n",
      "        elevation_tag = layer_tag.find(\"Extent[@name='elevation']\")\n",
      "        if elevation_tag is not None:\n",
      "            levels = elevation_tag.text.strip().split(',')\n",
      "\n",
      "    return levels;\n",
      "\n",
      "elevations = find_elevations_for_layer(wms, wind.name)\n",
      "print elevations"
     ],
     "language": "python",
     "metadata": {},
     "outputs": []
    },
    {
     "cell_type": "code",
     "collapsed": false,
     "input": [
      "#now we can change our vertical level with the parameter elevation\n",
      "#If no elevation parameter is provided the default is the first vertical level in the dimension.\n",
      "img_wind = wms.getmap( layers=['wind @ Isobaric surface'], #only takes one layer\n",
      "                  srs='EPSG:4326',\n",
      "                  bbox=(wind.boundingBox[0],wind.boundingBox[1], wind.boundingBox[2], wind.boundingBox[3]),\n",
      "                  size=(600, 600),\n",
      "                  format='image/png',\n",
      "                  time= times[0],\n",
      "                  elevation=elevations[len(elevations)-1 ]\n",
      ")\n",
      "\n",
      "saveLayerAsTmpImage(img_wind, 'test_wind.png')\n",
      "loadTmpImage('test_wind.png')"
     ],
     "language": "python",
     "metadata": {},
     "outputs": []
    },
    {
     "cell_type": "markdown",
     "metadata": {},
     "source": [
      "### Changing styles\n",
      "* We can specify the style (any from the available styles for a layer) in the param styles"
     ]
    },
    {
     "cell_type": "code",
     "collapsed": true,
     "input": [
      "#available styles: \n",
      "#print wind.styles\n",
      "#Change the style of our layer\n",
      "img_wind = wms.getmap( layers=[wind.name], #only takes one layer\n",
      "                  styles=['barb/rainbow'], #one style per layer    \n",
      "                  srs='EPSG:4326',\n",
      "                  bbox=(wind.boundingBox[0],wind.boundingBox[1], wind.boundingBox[2], wind.boundingBox[3]),\n",
      "                  size=(600, 600),\n",
      "                  format='image/png',\n",
      "                  time= times[0]\n",
      ")\n",
      "\n",
      "saveLayerAsTmpImage(img_wind, 'test_wind_barb.png')\n",
      "loadTmpImage('test_wind_barb.png')"
     ],
     "language": "python",
     "metadata": {},
     "outputs": []
    },
    {
     "cell_type": "markdown",
     "metadata": {},
     "source": [
      "### Changing the spatial reference system (SRS)\n",
      "* We can reproject to any of the available SRS."
     ]
    },
    {
     "cell_type": "code",
     "collapsed": false,
     "input": [
      "#Reproject the bounding box to a global mercator (EPSG:3875, projection used by Google Maps, OSM...) using pyproj\n",
      "from mpl_toolkits.basemap import pyproj\n",
      "epsg = '3857'\n",
      "psproj = pyproj.Proj(init=\"epsg:%s\" % epsg)\n",
      "xmin, ymin = psproj(wind.boundingBox[0], wind.boundingBox[1])\n",
      "xmax, ymax = psproj(wind.boundingBox[2], wind.boundingBox[3])\n",
      "img_wind = wms.getmap( layers=[wind.name],\n",
      "                  srs='EPSG:'+ epsg,\n",
      "                  bbox=(xmin, ymin, xmax, ymax),\n",
      "                  size=(600, 600),\n",
      "                  format='image/png',\n",
      "                  time= times[0]\n",
      ")\n",
      "\n",
      "saveLayerAsTmpImage(img_wind, 'test_wind_3857.png')\n",
      "loadTmpImage('test_wind_3857.png')"
     ],
     "language": "python",
     "metadata": {},
     "outputs": []
    },
    {
     "cell_type": "markdown",
     "metadata": {},
     "source": [
      "Cool, we already know how to make get map requests. Let's change our layer..."
     ]
    },
    {
     "cell_type": "code",
     "collapsed": true,
     "input": [
      "temp =wms['Temperature_isobaric']\n",
      "img_temp = wms.getmap( layers=[temp.name], \n",
      "                  styles=['boxfill/rainbow'], \n",
      "                  srs='EPSG:4326',\n",
      "                  bbox=(temp.boundingBox[0],temp.boundingBox[1], temp.boundingBox[2], temp.boundingBox[3]),\n",
      "                  size=(600, 600),\n",
      "                  format='image/png',\n",
      "                  time= times[0]\n",
      ")\n",
      "\n",
      "saveLayerAsTmpImage(img_temp, 'test_temp.png')\n",
      "loadTmpImage('test_temp.png')"
     ],
     "language": "python",
     "metadata": {},
     "outputs": []
    },
    {
     "cell_type": "markdown",
     "metadata": {},
     "source": [
      "...well not that cool."
     ]
    },
    {
     "cell_type": "markdown",
     "metadata": {},
     "source": [
      "## 6. <a name=\"ncWmsExtensions\">TDS-ncWMS styles and extensions<a/>\n",
      "\n",
      "* ncWMS/THREDDS provides some __[non-standard WMS parameters](http://www.resc.rdg.ac.uk/trac/ncWMS/wiki/WmsExtensions)__ that allow clients some control on the styling.\n",
      "\n",
      "- Change the scale range: \n",
      " - Default is -50,50. Parameter colorscalerange allows us to use a different scale  \n"
     ]
    },
    {
     "cell_type": "code",
     "collapsed": true,
     "input": [
      "img_temp = wms.getmap( layers=[temp.name], \n",
      "                  styles=['boxfill/rainbow'], \n",
      "                  srs='EPSG:4326',\n",
      "                  bbox=(wind.boundingBox[0],wind.boundingBox[1], wind.boundingBox[2], wind.boundingBox[3]),\n",
      "                  size=(600, 600),\n",
      "                  format='image/png',\n",
      "                  time= times[0],\n",
      "                  colorscalerange='250,320'\n",
      ")\n",
      "\n",
      "saveLayerAsTmpImage(img_temp, 'test_temp.png')\n",
      "loadTmpImage('test_temp.png')"
     ],
     "language": "python",
     "metadata": {},
     "outputs": []
    },
    {
     "cell_type": "markdown",
     "metadata": {},
     "source": [
      "* abovemaxcolor, belowmincolor params give us control on how we want the values out of range to be displayed.\n",
      "* valid values for those params are: extend (will use the highest/lowest value of the palette for values larger/smaller than the maximun/minimun), transparent and a color in 0xRRGGBB format"
     ]
    },
    {
     "cell_type": "code",
     "collapsed": false,
     "input": [
      "colorscalerange='290,310'\n",
      "\n",
      "img_temp = wms.getmap( layers=[temp.name], \n",
      "                  styles=['boxfill/rainbow'], \n",
      "                  srs='EPSG:4326',\n",
      "                  bbox=(wind.boundingBox[0],wind.boundingBox[1], wind.boundingBox[2], wind.boundingBox[3]),\n",
      "                  size=(600, 600),\n",
      "                  format='image/png',\n",
      "                  time= times[0],\n",
      "                  colorscalerange=colorscalerange,\n",
      "                  abovemaxcolor='transparent',\n",
      "                  belowmincolor='transparent'\n",
      ")\n",
      "\n",
      "saveLayerAsTmpImage(img_temp, 'test_temp.png')\n",
      "loadTmpImage('test_temp.png')"
     ],
     "language": "python",
     "metadata": {},
     "outputs": []
    },
    {
     "cell_type": "markdown",
     "metadata": {},
     "source": [
      "The GetLegendGraphic request gives us a legend for the map, but the request is not supported by OWSLib."
     ]
    },
    {
     "cell_type": "code",
     "collapsed": false,
     "input": [
      "params ={'request': 'GetLegendGraphic',\n",
      "         'colorbaronly':'False', #want the text in the legend\n",
      "         'layer':temp.name,\n",
      "         'colorscalerange':colorscalerange}\n",
      "\n",
      "legendUrl=serverurl+'?REQUEST={request:s}&COLORBARONLY={colorbaronly:s}&LAYER={layer:s}&COLORSCALERANGE={colorscalerange:s}'.format(**params)\n",
      "\n",
      "loadRemoteImage(legendUrl)\n"
     ],
     "language": "python",
     "metadata": {},
     "outputs": []
    },
    {
     "cell_type": "markdown",
     "metadata": {},
     "source": [
      "## 7. <a name=\"wmsAndBasemap\">WMS and basemap</a>  \n",
      "We can use basemap to overlay the layer with a coastline..."
     ]
    },
    {
     "cell_type": "code",
     "collapsed": false,
     "input": [
      "import os\n",
      "import urllib2\n",
      "from mpl_toolkits.basemap import Basemap\n",
      "import matplotlib.pyplot as plt\n",
      "from matplotlib.offsetbox import AnnotationBbox, OffsetImage\n",
      "from matplotlib._png import read_png\n",
      "\n",
      "%matplotlib inline\n",
      "\n",
      "m = Basemap(llcrnrlon=temp.boundingBox[0], llcrnrlat=temp.boundingBox[1],\n",
      "            urcrnrlon=temp.boundingBox[2], urcrnrlat=temp.boundingBox[3]+5.0,\n",
      "            resolution='l',epsg=4326)\n",
      "\n",
      "plt.figure(1, figsize=(16,12))\n",
      "plt.title(temp.title +' '+times[0] )\n",
      "\n",
      "m.wmsimage(serverurl,xpixels=600, ypixels=600, verbose=False,\n",
      "        layers=[temp.name], \n",
      "        styles=['boxfill/rainbow'], \n",
      "        time= times[0],\n",
      "        colorscalerange=colorscalerange,\n",
      "        abovemaxcolor='extend',\n",
      "        belowmincolor='transparent'\n",
      ")\n",
      "\n",
      "m.drawcoastlines(linewidth=0.25)\n",
      "\n",
      "#Annotating the map with the legend\n",
      "#Save the legend as image\n",
      "cwd = os.getcwd()\n",
      "legend = urllib2.urlopen(legendUrl)\n",
      "saveLayerAsTmpImage(legend, 'legend_temp.png')\n",
      "\n",
      "#read the image as an array\n",
      "arr = read_png(os.path.join(getTmpImgDir(),'legend_temp.png'))\n",
      "imagebox = OffsetImage(arr, zoom=0.7)\n",
      "xy =[ temp.boundingBox[2], temp.boundingBox[1] ]\n",
      "\n",
      "#Gets the current axis\n",
      "ax = plt.gca()\n",
      "\n",
      "#Creates the annotation\n",
      "ab = AnnotationBbox(imagebox, xy,\n",
      "                    xybox=(-46.,100.),\n",
      "                    xycoords='data',\n",
      "                    boxcoords=\"offset points\",\n",
      "                    pad=0.)\n",
      "\n",
      "#Adds the legend image as an AnnotationBbox to the map\n",
      "ax.add_artist(ab)\n",
      "\n",
      "plt.show()\n"
     ],
     "language": "python",
     "metadata": {},
     "outputs": []
    },
    {
     "cell_type": "markdown",
     "metadata": {},
     "source": [
      "##Exercise:\n",
      "- Get the vertical levels for the layer temp.\n",
      "- Change the request for getting the highest level.\n",
      "- Change the color scale range to appropriate values."
     ]
    }
   ],
   "metadata": {}
  }
 ]
}